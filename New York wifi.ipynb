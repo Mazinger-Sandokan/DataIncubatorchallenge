{
 "cells": [
  {
   "cell_type": "code",
   "execution_count": 1,
   "id": "32abe09a",
   "metadata": {},
   "outputs": [],
   "source": [
    "import pandas as pd\n",
    "import numpy as np\n",
    "import re"
   ]
  },
  {
   "cell_type": "code",
   "execution_count": 32,
   "id": "5051dcf1",
   "metadata": {},
   "outputs": [],
   "source": [
    "nywf=pd.read_csv('nywf.csv')\n",
    "census=pd.read_csv('census.csv')"
   ]
  },
  {
   "cell_type": "code",
   "execution_count": 10,
   "id": "619a5b19",
   "metadata": {},
   "outputs": [
    {
     "data": {
      "text/plain": [
       "17"
      ]
     },
     "execution_count": 10,
     "metadata": {},
     "output_type": "execute_result"
    }
   ],
   "source": [
    "#question 1\n",
    "#Count different providers\n",
    "providers=pd.unique(nywf['Provider'])\n",
    "len(providers)"
   ]
  },
  {
   "cell_type": "code",
   "execution_count": 15,
   "id": "14fdef6e",
   "metadata": {},
   "outputs": [
    {
     "name": "stdout",
     "output_type": "stream",
     "text": [
      "ALTICEUSA 120\n",
      "AT&T 3\n",
      "LinkNYC - Citybridge 137\n",
      "NYPL 35\n",
      "Transit Wireless 21\n"
     ]
    }
   ],
   "source": [
    "#question 2\n",
    "# Count providers and amount of hotspots in the Bronx.\n",
    "Bronxwf=nywf[nywf['Borough']==2]\n",
    "BronxGroups=Bronxwf.groupby('Provider')\n",
    "for x,y in BronxGroups:\n",
    "    print(x,len(y))"
   ]
  },
  {
   "cell_type": "code",
   "execution_count": 46,
   "id": "d06d636d",
   "metadata": {},
   "outputs": [
    {
     "name": "stdout",
     "output_type": "stream",
     "text": [
      "0.04579692678517626\n"
     ]
    }
   ],
   "source": [
    "#question 3\n",
    "#Define a function to determine if the hotspot is in a park.\n",
    "def InPark(row):\n",
    "    if re.search('[Pp][Aa][Rr][Kk][Ss]*(?![\\w])',str(row['Location'])):\n",
    "        return True\n",
    "    return False\n",
    "#create a new column with boolean value.\n",
    "nywf['Park']=nywf.apply(InPark,axis=1)\n",
    "#Calculate the fraction\n",
    "print(len(nywf[nywf['Park']])/len(nywf))"
   ]
  },
  {
   "cell_type": "code",
   "execution_count": 21,
   "id": "5bac10d6",
   "metadata": {},
   "outputs": [
    {
     "name": "stdout",
     "output_type": "stream",
     "text": [
      "0.8121778350515464\n"
     ]
    }
   ],
   "source": [
    "#question 4\n",
    "#Define a function to determine if the hotspot is in a library.\n",
    "def InLibrary(row):\n",
    "    if re.search('[Ll][Ii][Bb][rR][aA][rR][yY]',str(row['Location_T'])):\n",
    "        return True\n",
    "    return False\n",
    "#create a new column with boolean value.\n",
    "nywf['Library']=nywf.apply(InLibrary,axis=1)\n",
    "#select the hotspots that are not in libraries\n",
    "nonlib=nywf[nywf['Library']==False]\n",
    "#Print the proportion of unlimited free hotspots\n",
    "print(len(nonlib[nonlib['Type']==\"Free\"])/len(nonlib))"
   ]
  },
  {
   "cell_type": "code",
   "execution_count": 45,
   "id": "4e1f0b72",
   "metadata": {},
   "outputs": [
    {
     "name": "stdout",
     "output_type": "stream",
     "text": [
      "0.0008508586597922147\n"
     ]
    }
   ],
   "source": [
    "#question 5\n",
    "#rename the NTACODE column of the NY wifi dataframe:\n",
    "columns=list(nywf.columns)\n",
    "columns[18]='NTACODE'\n",
    "nywf.columns=columns\n",
    "#group by NTACODE\n",
    "NTACODEGroups=nywf.groupby('NTACODE')\n",
    "#select the ones with more than 30 hotspots (HS)\n",
    "LotOfHS=[(x,len(y)) for x,y in NTACODEGroups if len(y)>=30]\n",
    "lotsofHS=pd.DataFrame(LotOfHS,columns=['NTACODE','HSamount'])\n",
    "#rename some columns of the NY population dataframe:\n",
    "columns=list(census.columns)\n",
    "columns[2]='NTACODE'\n",
    "columns[5]='TP2010'\n",
    "census.columns=columns\n",
    "#intersect the dataframes on the NTACODE column:\n",
    "CensusPlus=pd.merge(census,lotsofHS,how='inner',on='NTACODE')\n",
    "#define a function to compute HS per capita and add a column with the info\n",
    "def HSperCap(row):\n",
    "    return row['HSamount']/row['TP2010']\n",
    "CensusPlus['HSperCap']=CensusPlus.apply(HSperCap,axis=1)\n",
    "#get some statistics\n",
    "CensusStats=CensusPlus.describe()\n",
    "#print the interquartile range\n",
    "print(CensusStats.loc['75%','HSperCap']-CensusStats.loc['25%','HSperCap'])"
   ]
  },
  {
   "cell_type": "code",
   "execution_count": 60,
   "id": "ea0624c6",
   "metadata": {},
   "outputs": [],
   "source": [
    "#question 6\n",
    "#Convert the coordinates to radians\n",
    "def Radians(row):\n",
    "    radlat=float(row['Latitude'])*np.pi/180\n",
    "    radlon=float(row['Longitude'])*np.pi/180\n",
    "    return (radlat,radlon)\n",
    "nywf['Radians']=nywf.apply(Radians,axis=1)\n",
    "#define a function to compute the distance\n",
    "R=6371*3280.84\n",
    "def distance(p1,p2):\n",
    "    latm=(p1[0]+p2[0])/2\n",
    "    return R*np.sqrt((p2[0]-p1[0])**2+(np.cos(latm)*(p1[1]-p2[1]))**2)\n",
    "#We will take a sample to compute the median of the distances\n",
    "CoordsDF=pd.merge(CensusPlus,nywf,how='inner',on='NTACODE')\n",
    "CoordSample=CoordsDF.sample(n=500)\n",
    "def Vecinos(row):\n",
    "    vecinos=set([50000,50001,50002])\n",
    "    code=row['NTACODE']\n",
    "    samecodeDF=CoordsDF[CoordsDF['NTACODE']==code]\n",
    "    mycoords=row['Radians']\n",
    "    for i in samecodeDF.index:\n",
    "        dist=distance(mycoords,samecodeDF.loc[i]['Radians'])\n",
    "        if dist<max(vecinos) and dist!=0:\n",
    "            vecinos.discard(max(vecinos))\n",
    "            vecinos.add(dist)\n",
    "    return sum(vecinos)/len(vecinos)\n",
    "\n",
    "CoordSample['Average Distance']=CoordSample.apply(Vecinos,axis=1)"
   ]
  },
  {
   "cell_type": "code",
   "execution_count": 63,
   "id": "f880fa3c",
   "metadata": {},
   "outputs": [
    {
     "data": {
      "text/plain": [
       "272.0109367549215"
      ]
     },
     "execution_count": 63,
     "metadata": {},
     "output_type": "execute_result"
    }
   ],
   "source": [
    "CoordSample.describe().loc['50%','Average Distance']"
   ]
  },
  {
   "cell_type": "code",
   "execution_count": null,
   "id": "627fd032",
   "metadata": {},
   "outputs": [],
   "source": []
  }
 ],
 "metadata": {
  "kernelspec": {
   "display_name": "Python 3",
   "language": "python",
   "name": "python3"
  },
  "language_info": {
   "codemirror_mode": {
    "name": "ipython",
    "version": 3
   },
   "file_extension": ".py",
   "mimetype": "text/x-python",
   "name": "python",
   "nbconvert_exporter": "python",
   "pygments_lexer": "ipython3",
   "version": "3.8.5"
  }
 },
 "nbformat": 4,
 "nbformat_minor": 5
}
